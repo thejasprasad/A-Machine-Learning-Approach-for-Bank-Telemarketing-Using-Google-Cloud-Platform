{
 "cells": [
  {
   "cell_type": "markdown",
   "metadata": {},
   "source": [
    "# Predict the Outcome of Bank Telemarketing Using Machine Learning Approaches on Cloud "
   ]
  },
  {
   "cell_type": "markdown",
   "metadata": {},
   "source": [
    "<h3><center>Thejas Prasad</center></h3>"
   ]
  },
  {
   "cell_type": "markdown",
   "metadata": {},
   "source": [
    "<h3><center>Machine Learning in Google Cloud Platform</center></h3>"
   ]
  },
  {
   "cell_type": "markdown",
   "metadata": {},
   "source": [
    " <h3><center>04/11/2018</center></h3>"
   ]
  },
  {
   "cell_type": "markdown",
   "metadata": {},
   "source": [
    "## Data Set Information:\n",
    "The data are related to direct marketing campaigns of a Portuguese banking institution. Data were obtained from the UCI Machine Learning Repository. Marketing campaigns were based on phone calls; often, more than one contact to the same client was required in order to assess if the product (bank term deposit) would be ('yes') or not ('no') subscribed. \n",
    "\n",
    "We will use the full dataset for this analysis, which contains 41188 observations and 20 inputs, ordered by date (from May 2008 to November 2010). The dataset is publicly available here: https://archive.ics.uci.edu/ml/datasets/bank+marketing"
   ]
  },
  {
   "cell_type": "markdown",
   "metadata": {},
   "source": [
    "## Attribute Information:\n",
    "### Input variables:\n",
    "#### bank client data:\n",
    "  - age (numeric)\n",
    "  - job : type of job (categorical: 'admin.','blue-collar','entrepreneur','housemaid','management','retired','self-employed','services','student','technician','unemployed','unknown') \n",
    "  - marital : marital status (categorical: 'divorced','married','single','unknown'; note: 'divorced' means divorced or widowed) \n",
    "  - education(categorical:'basic.4y','basic.6y','basic.9y','high.school','illiterate','professional.course','university.degree','unknown') \n",
    "  - default: has credit in default? (categorical: 'no','yes','unknown') \n",
    "  - housing: has housing loan? (categorical: 'no','yes','unknown') \n",
    "  - loan: has personal loan? (categorical: 'no','yes','unknown')\n",
    "#### related with the last contact of the current campaign:\n",
    "  - contact: contact communication type (categorical: 'cellular','telephone')  \n",
    "  - month: last contact month of year (categorical: 'jan', 'feb', 'mar', ..., 'nov', 'dec') \n",
    "  - day_of_week: last contact day of the week (categorical: 'mon','tue','wed','thu','fri') \n",
    "  - duration: last contact duration, in seconds (numeric). Important note: this attribute highly affects the output target (e.g., if duration=0 then y='no'). Yet, the duration is not known before a call is performed. Also, after the end of the call y is obviously known. Thus, this input should only be included for benchmark purposes and should be discarded if the intention is to have a realistic predictive model.\n",
    "#### other attributes:\n",
    "  - campaign: number of contacts performed during this campaign and for this client (numeric, includes last contact) \n",
    "  - pdays: number of days that passed by after the client was last contacted from a previous campaign (numeric; 999 means client was not previously contacted) \n",
    "  - previous: number of contacts performed before this campaign and for this client (numeric) \n",
    "  - poutcome: outcome of the previous marketing campaign (categorical: 'failure','nonexistent','success')\n",
    "#### social and economic context attributes\n",
    "  - emp.var.rate: employment variation rate - quarterly indicator (numeric) \n",
    "  - cons.price.idx: consumer price index - monthly indicator (numeric)  \n",
    "  - cons.conf.idx: consumer confidence index - monthly indicator (numeric)  \n",
    "  - euribor3m: euribor 3 month rate - daily indicator (numeric) \n",
    "  - nr.employed: number of employees - quarterly indicator (numeric)\n",
    "### Output variable (desired target):\n",
    "  - y - has the client subscribed a term deposit? (binary: 'yes','no')"
   ]
  },
  {
   "cell_type": "markdown",
   "metadata": {},
   "source": [
    "### Import date from GCP storage"
   ]
  },
  {
   "cell_type": "code",
   "execution_count": 1,
   "metadata": {},
   "outputs": [
    {
     "ename": "ModuleNotFoundError",
     "evalue": "No module named 'google.datalab'",
     "output_type": "error",
     "traceback": [
      "\u001b[0;31m---------------------------------------------------------------------------\u001b[0m",
      "\u001b[0;31mModuleNotFoundError\u001b[0m                       Traceback (most recent call last)",
      "\u001b[0;32m<ipython-input-1-59f1b6afd513>\u001b[0m in \u001b[0;36m<module>\u001b[0;34m()\u001b[0m\n\u001b[0;32m----> 1\u001b[0;31m \u001b[0;32mfrom\u001b[0m \u001b[0mgoogle\u001b[0m\u001b[0;34m.\u001b[0m\u001b[0mdatalab\u001b[0m \u001b[0;32mimport\u001b[0m \u001b[0mContext\u001b[0m\u001b[0;34m\u001b[0m\u001b[0m\n\u001b[0m\u001b[1;32m      2\u001b[0m \u001b[0;31m#import google.datalab.bigquery as bq\u001b[0m\u001b[0;34m\u001b[0m\u001b[0;34m\u001b[0m\u001b[0m\n\u001b[1;32m      3\u001b[0m \u001b[0;32mimport\u001b[0m \u001b[0mgoogle\u001b[0m\u001b[0;34m.\u001b[0m\u001b[0mdatalab\u001b[0m\u001b[0;34m.\u001b[0m\u001b[0mstorage\u001b[0m \u001b[0;32mas\u001b[0m \u001b[0mstorage\u001b[0m\u001b[0;34m\u001b[0m\u001b[0m\n\u001b[1;32m      4\u001b[0m \u001b[0;32mimport\u001b[0m \u001b[0mpandas\u001b[0m \u001b[0;32mas\u001b[0m \u001b[0mpd\u001b[0m\u001b[0;34m\u001b[0m\u001b[0m\n\u001b[1;32m      5\u001b[0m \u001b[0;32mtry\u001b[0m\u001b[0;34m:\u001b[0m\u001b[0;34m\u001b[0m\u001b[0m\n",
      "\u001b[0;31mModuleNotFoundError\u001b[0m: No module named 'google.datalab'"
     ]
    }
   ],
   "source": [
    "from google.datalab import Context\n",
    "#import google.datalab.bigquery as bq\n",
    "import google.datalab.storage as storage\n",
    "import pandas as pd\n",
    "try:\n",
    "  from StringIO import StringIO\n",
    "except ImportError:\n",
    "  from io import BytesIO as StringIO"
   ]
  },
  {
   "cell_type": "code",
   "execution_count": 2,
   "metadata": {
    "collapsed": true
   },
   "outputs": [],
   "source": [
    "import warnings\n",
    "warnings.filterwarnings('ignore')\n",
    "\n",
    "import numpy as np\n",
    "import matplotlib.pyplot as plt\n",
    "%matplotlib inline"
   ]
  },
  {
   "cell_type": "code",
   "execution_count": 2,
   "metadata": {},
   "outputs": [
    {
     "ename": "SyntaxError",
     "evalue": "invalid syntax (<ipython-input-2-503f526ba603>, line 2)",
     "output_type": "error",
     "traceback": [
      "\u001b[1;36m  File \u001b[1;32m\"<ipython-input-2-503f526ba603>\"\u001b[1;36m, line \u001b[1;32m2\u001b[0m\n\u001b[1;33m    %%gcs read --object gs://termp/bankData.csv --variable bank\u001b[0m\n\u001b[1;37m    ^\u001b[0m\n\u001b[1;31mSyntaxError\u001b[0m\u001b[1;31m:\u001b[0m invalid syntax\n"
     ]
    }
   ],
   "source": [
    "# access bank data stored in the bucket\n",
    "%%gcs read --object gs://termp/bankData.csv --variable bank"
   ]
  },
  {
   "cell_type": "code",
   "execution_count": 5,
   "metadata": {},
   "outputs": [
    {
     "data": {
      "text/plain": [
       "(41188, 21)"
      ]
     },
     "execution_count": 5,
     "metadata": {},
     "output_type": "execute_result"
    }
   ],
   "source": [
    "# read varible bank as a data frame\n",
    "bank = pd.read_csv(StringIO(bank))\n",
    "bank.shape"
   ]
  },
  {
   "cell_type": "code",
   "execution_count": 18,
   "metadata": {},
   "outputs": [
    {
     "data": {
      "text/html": [
       "<div>\n",
       "<style scoped>\n",
       "    .dataframe tbody tr th:only-of-type {\n",
       "        vertical-align: middle;\n",
       "    }\n",
       "\n",
       "    .dataframe tbody tr th {\n",
       "        vertical-align: top;\n",
       "    }\n",
       "\n",
       "    .dataframe thead th {\n",
       "        text-align: right;\n",
       "    }\n",
       "</style>\n",
       "<table border=\"1\" class=\"dataframe\">\n",
       "  <thead>\n",
       "    <tr style=\"text-align: right;\">\n",
       "      <th></th>\n",
       "      <th>age</th>\n",
       "      <th>job</th>\n",
       "      <th>marital</th>\n",
       "      <th>education</th>\n",
       "      <th>default</th>\n",
       "      <th>housing</th>\n",
       "      <th>loan</th>\n",
       "      <th>contact</th>\n",
       "      <th>month</th>\n",
       "      <th>day_of_week</th>\n",
       "      <th>...</th>\n",
       "      <th>campaign</th>\n",
       "      <th>pdays</th>\n",
       "      <th>previous</th>\n",
       "      <th>poutcome</th>\n",
       "      <th>emp.var.rate</th>\n",
       "      <th>cons.price.idx</th>\n",
       "      <th>cons.conf.idx</th>\n",
       "      <th>euribor3m</th>\n",
       "      <th>nr.employed</th>\n",
       "      <th>y</th>\n",
       "    </tr>\n",
       "  </thead>\n",
       "  <tbody>\n",
       "    <tr>\n",
       "      <th>0</th>\n",
       "      <td>56</td>\n",
       "      <td>housemaid</td>\n",
       "      <td>married</td>\n",
       "      <td>basic.4y</td>\n",
       "      <td>no</td>\n",
       "      <td>no</td>\n",
       "      <td>no</td>\n",
       "      <td>telephone</td>\n",
       "      <td>may</td>\n",
       "      <td>mon</td>\n",
       "      <td>...</td>\n",
       "      <td>1</td>\n",
       "      <td>999</td>\n",
       "      <td>0</td>\n",
       "      <td>nonexistent</td>\n",
       "      <td>1.1</td>\n",
       "      <td>93.994</td>\n",
       "      <td>-36.4</td>\n",
       "      <td>4.857</td>\n",
       "      <td>5191.0</td>\n",
       "      <td>no</td>\n",
       "    </tr>\n",
       "    <tr>\n",
       "      <th>1</th>\n",
       "      <td>57</td>\n",
       "      <td>services</td>\n",
       "      <td>married</td>\n",
       "      <td>high.school</td>\n",
       "      <td>unknown</td>\n",
       "      <td>no</td>\n",
       "      <td>no</td>\n",
       "      <td>telephone</td>\n",
       "      <td>may</td>\n",
       "      <td>mon</td>\n",
       "      <td>...</td>\n",
       "      <td>1</td>\n",
       "      <td>999</td>\n",
       "      <td>0</td>\n",
       "      <td>nonexistent</td>\n",
       "      <td>1.1</td>\n",
       "      <td>93.994</td>\n",
       "      <td>-36.4</td>\n",
       "      <td>4.857</td>\n",
       "      <td>5191.0</td>\n",
       "      <td>no</td>\n",
       "    </tr>\n",
       "    <tr>\n",
       "      <th>2</th>\n",
       "      <td>37</td>\n",
       "      <td>services</td>\n",
       "      <td>married</td>\n",
       "      <td>high.school</td>\n",
       "      <td>no</td>\n",
       "      <td>yes</td>\n",
       "      <td>no</td>\n",
       "      <td>telephone</td>\n",
       "      <td>may</td>\n",
       "      <td>mon</td>\n",
       "      <td>...</td>\n",
       "      <td>1</td>\n",
       "      <td>999</td>\n",
       "      <td>0</td>\n",
       "      <td>nonexistent</td>\n",
       "      <td>1.1</td>\n",
       "      <td>93.994</td>\n",
       "      <td>-36.4</td>\n",
       "      <td>4.857</td>\n",
       "      <td>5191.0</td>\n",
       "      <td>no</td>\n",
       "    </tr>\n",
       "    <tr>\n",
       "      <th>3</th>\n",
       "      <td>40</td>\n",
       "      <td>admin.</td>\n",
       "      <td>married</td>\n",
       "      <td>basic.6y</td>\n",
       "      <td>no</td>\n",
       "      <td>no</td>\n",
       "      <td>no</td>\n",
       "      <td>telephone</td>\n",
       "      <td>may</td>\n",
       "      <td>mon</td>\n",
       "      <td>...</td>\n",
       "      <td>1</td>\n",
       "      <td>999</td>\n",
       "      <td>0</td>\n",
       "      <td>nonexistent</td>\n",
       "      <td>1.1</td>\n",
       "      <td>93.994</td>\n",
       "      <td>-36.4</td>\n",
       "      <td>4.857</td>\n",
       "      <td>5191.0</td>\n",
       "      <td>no</td>\n",
       "    </tr>\n",
       "    <tr>\n",
       "      <th>4</th>\n",
       "      <td>56</td>\n",
       "      <td>services</td>\n",
       "      <td>married</td>\n",
       "      <td>high.school</td>\n",
       "      <td>no</td>\n",
       "      <td>no</td>\n",
       "      <td>yes</td>\n",
       "      <td>telephone</td>\n",
       "      <td>may</td>\n",
       "      <td>mon</td>\n",
       "      <td>...</td>\n",
       "      <td>1</td>\n",
       "      <td>999</td>\n",
       "      <td>0</td>\n",
       "      <td>nonexistent</td>\n",
       "      <td>1.1</td>\n",
       "      <td>93.994</td>\n",
       "      <td>-36.4</td>\n",
       "      <td>4.857</td>\n",
       "      <td>5191.0</td>\n",
       "      <td>no</td>\n",
       "    </tr>\n",
       "  </tbody>\n",
       "</table>\n",
       "<p>5 rows × 21 columns</p>\n",
       "</div>"
      ],
      "text/plain": [
       "   age        job  marital    education  default housing loan    contact  \\\n",
       "0   56  housemaid  married     basic.4y       no      no   no  telephone   \n",
       "1   57   services  married  high.school  unknown      no   no  telephone   \n",
       "2   37   services  married  high.school       no     yes   no  telephone   \n",
       "3   40     admin.  married     basic.6y       no      no   no  telephone   \n",
       "4   56   services  married  high.school       no      no  yes  telephone   \n",
       "\n",
       "  month day_of_week ...  campaign  pdays  previous     poutcome emp.var.rate  \\\n",
       "0   may         mon ...         1    999         0  nonexistent          1.1   \n",
       "1   may         mon ...         1    999         0  nonexistent          1.1   \n",
       "2   may         mon ...         1    999         0  nonexistent          1.1   \n",
       "3   may         mon ...         1    999         0  nonexistent          1.1   \n",
       "4   may         mon ...         1    999         0  nonexistent          1.1   \n",
       "\n",
       "   cons.price.idx  cons.conf.idx  euribor3m  nr.employed   y  \n",
       "0          93.994          -36.4      4.857       5191.0  no  \n",
       "1          93.994          -36.4      4.857       5191.0  no  \n",
       "2          93.994          -36.4      4.857       5191.0  no  \n",
       "3          93.994          -36.4      4.857       5191.0  no  \n",
       "4          93.994          -36.4      4.857       5191.0  no  \n",
       "\n",
       "[5 rows x 21 columns]"
      ]
     },
     "execution_count": 18,
     "metadata": {},
     "output_type": "execute_result"
    }
   ],
   "source": [
    "# an alternative way to import bank data from stroage as a data frame\n",
    "bank2 = storage.Object('termp', 'bankData.csv').read_stream()\n",
    "bank2 = pd.read_csv(StringIO(bank2))\n",
    "bank2.head()"
   ]
  },
  {
   "cell_type": "code",
   "execution_count": 6,
   "metadata": {
    "scrolled": true
   },
   "outputs": [
    {
     "name": "stdout",
     "output_type": "stream",
     "text": [
      "<class 'pandas.core.frame.DataFrame'>\n",
      "RangeIndex: 41188 entries, 0 to 41187\n",
      "Data columns (total 21 columns):\n",
      "age               41188 non-null int64\n",
      "job               41188 non-null object\n",
      "marital           41188 non-null object\n",
      "education         41188 non-null object\n",
      "default           41188 non-null object\n",
      "housing           41188 non-null object\n",
      "loan              41188 non-null object\n",
      "contact           41188 non-null object\n",
      "month             41188 non-null object\n",
      "day_of_week       41188 non-null object\n",
      "duration          41188 non-null int64\n",
      "campaign          41188 non-null int64\n",
      "pdays             41188 non-null int64\n",
      "previous          41188 non-null int64\n",
      "poutcome          41188 non-null object\n",
      "emp.var.rate      41188 non-null float64\n",
      "cons.price.idx    41188 non-null float64\n",
      "cons.conf.idx     41188 non-null float64\n",
      "euribor3m         41188 non-null float64\n",
      "nr.employed       41188 non-null float64\n",
      "y                 41188 non-null object\n",
      "dtypes: float64(5), int64(5), object(11)\n",
      "memory usage: 6.6+ MB\n"
     ]
    }
   ],
   "source": [
    "# check missing value\n",
    "bank.info() "
   ]
  },
  {
   "cell_type": "code",
   "execution_count": 7,
   "metadata": {},
   "outputs": [
    {
     "data": {
      "text/plain": [
       "(41188, 20)"
      ]
     },
     "execution_count": 7,
     "metadata": {},
     "output_type": "execute_result"
    }
   ],
   "source": [
    "# separate the dataset into X, y\n",
    "Xb, yb = bank.iloc[:, :-1], bank.iloc[:, -1]\n",
    "Xb.shape"
   ]
  },
  {
   "cell_type": "markdown",
   "metadata": {},
   "source": [
    "### Feature engineering"
   ]
  },
  {
   "cell_type": "code",
   "execution_count": 8,
   "metadata": {},
   "outputs": [
    {
     "data": {
      "text/plain": [
       "y\n",
       "no     36548\n",
       "yes     4640\n",
       "dtype: int64"
      ]
     },
     "execution_count": 8,
     "metadata": {},
     "output_type": "execute_result"
    }
   ],
   "source": [
    "# y is very unbalanced, with small sample proportions of y distorting predictive abilities of analysis. \n",
    "bank.groupby('y').size()"
   ]
  },
  {
   "cell_type": "code",
   "execution_count": 9,
   "metadata": {},
   "outputs": [
    {
     "data": {
      "text/html": [
       "<div>\n",
       "<style scoped>\n",
       "    .dataframe tbody tr th:only-of-type {\n",
       "        vertical-align: middle;\n",
       "    }\n",
       "\n",
       "    .dataframe tbody tr th {\n",
       "        vertical-align: top;\n",
       "    }\n",
       "\n",
       "    .dataframe thead th {\n",
       "        text-align: right;\n",
       "    }\n",
       "</style>\n",
       "<table border=\"1\" class=\"dataframe\">\n",
       "  <thead>\n",
       "    <tr style=\"text-align: right;\">\n",
       "      <th></th>\n",
       "      <th>deposit_yes</th>\n",
       "    </tr>\n",
       "  </thead>\n",
       "  <tbody>\n",
       "    <tr>\n",
       "      <th>0</th>\n",
       "      <td>0</td>\n",
       "    </tr>\n",
       "    <tr>\n",
       "      <th>1</th>\n",
       "      <td>0</td>\n",
       "    </tr>\n",
       "    <tr>\n",
       "      <th>2</th>\n",
       "      <td>0</td>\n",
       "    </tr>\n",
       "  </tbody>\n",
       "</table>\n",
       "</div>"
      ],
      "text/plain": [
       "   deposit_yes\n",
       "0            0\n",
       "1            0\n",
       "2            0"
      ]
     },
     "execution_count": 9,
     "metadata": {},
     "output_type": "execute_result"
    }
   ],
   "source": [
    "# one hot encoding for y\n",
    "y_encode = pd.get_dummies(yb, prefix='deposit', drop_first= True)\n",
    "\n",
    "# set deposit = 'yes' as target\n",
    "y_encode.head(3)"
   ]
  },
  {
   "cell_type": "code",
   "execution_count": 10,
   "metadata": {
    "collapsed": true
   },
   "outputs": [],
   "source": [
    "# Return a contiguous flattened array \n",
    "y = np.ravel(y_encode)"
   ]
  },
  {
   "cell_type": "code",
   "execution_count": 11,
   "metadata": {
    "collapsed": true
   },
   "outputs": [],
   "source": [
    "# Remove 'duration' variable, which was found to be highly collinear with output variable ('yes').\n",
    "# Longer phone calls were strongly correlated with outcome.\n",
    "del Xb['duration']"
   ]
  },
  {
   "cell_type": "code",
   "execution_count": 12,
   "metadata": {},
   "outputs": [
    {
     "data": {
      "text/plain": [
       "(41188, 62)"
      ]
     },
     "execution_count": 12,
     "metadata": {},
     "output_type": "execute_result"
    }
   ],
   "source": [
    "# one-hot encoding for X\n",
    "X_encode = pd.get_dummies(Xb)\n",
    "X_encode.shape"
   ]
  },
  {
   "cell_type": "code",
   "execution_count": 13,
   "metadata": {
    "collapsed": true
   },
   "outputs": [],
   "source": [
    "# standardize features for further analysis\n",
    "from sklearn.preprocessing import StandardScaler\n",
    "\n",
    "scl = StandardScaler()\n",
    "X = scl.fit_transform(X_encode)"
   ]
  },
  {
   "cell_type": "markdown",
   "metadata": {},
   "source": [
    "#### Dataset description\n",
    "- No missing values were reported\n",
    "- Removed 'duration' as indicated previously. \n",
    "- Most features were categorical, so one-hot encoding was applied. Total of 62 features are in the final dataset after one-hot encoding."
   ]
  },
  {
   "cell_type": "markdown",
   "metadata": {},
   "source": [
    "#### Choose proper evaluation metrics for the classifiers\n",
    "- F1 score was used as the evaluation metric: since the desired target had unbalanced proportions (36.5K 'No' vs 4.6K 'Yes') and No >> Yes, F1 was a proper metric to use. Accuracy is not suitable because classifiers are biased towards larger proportion classes. For example, the average accuracy for this dataset could reach 91% (very high accuracy on \"No,\" but very low on \"yes\"), but the best F1 score obtained was around 56%.  \n",
    "- The F1 score for classification was obtained via cross_val_score combining Stratified ShuffleSplit cross-validator. The samples were randomized, stratified and cross-validated during classfication, which makes F1 a reliable metric for comparison."
   ]
  },
  {
   "cell_type": "markdown",
   "metadata": {},
   "source": [
    "### RandomForest classifier"
   ]
  },
  {
   "cell_type": "code",
   "execution_count": 14,
   "metadata": {},
   "outputs": [
    {
     "name": "stdout",
     "output_type": "stream",
     "text": [
      "100 :CI of RandomForest f1 is 0.377 +/- 0.030\n",
      "200 :CI of RandomForest f1 is 0.378 +/- 0.031\n",
      "300 :CI of RandomForest f1 is 0.384 +/- 0.027\n",
      "CPU times: user 5min 9s, sys: 1.57 s, total: 5min 11s\n",
      "Wall time: 5min 13s\n"
     ]
    }
   ],
   "source": [
    "%%time\n",
    "from sklearn.ensemble import RandomForestClassifier\n",
    "from sklearn.model_selection import StratifiedShuffleSplit \n",
    "from sklearn.model_selection import cross_val_score\n",
    "\n",
    "# create cross validation iterator\n",
    "cv = StratifiedShuffleSplit( n_splits=10, test_size=0.2)\n",
    "\n",
    "# tune the significant parameter n_estimators\n",
    "estimator_list = [100, 200, 300]\n",
    "for n in estimator_list:\n",
    "    clf_rf = RandomForestClassifier(n_estimators=n, random_state=1)\n",
    "    scores_rf = cross_val_score(clf_rf, X, y=y, cv=cv, scoring = 'f1', n_jobs=-1) \n",
    "# The mean accuracy score and the 95% confidence interval of the score estimate \n",
    "    print(n,\":CI of RandomForest f1 is %0.3f +/- %0.3f\" % (scores_rf.mean(), scores_rf.std()*2))"
   ]
  },
  {
   "cell_type": "markdown",
   "metadata": {},
   "source": [
    "### K-neighbors classifier"
   ]
  },
  {
   "cell_type": "code",
   "execution_count": 16,
   "metadata": {
    "scrolled": true
   },
   "outputs": [
    {
     "name": "stdout",
     "output_type": "stream",
     "text": [
      "5 :CI of KNN f1 is 0.351 +/- 0.021\n",
      "7 :CI of KNN f1 is 0.345 +/- 0.018\n",
      "9 :CI of KNN f1 is 0.344 +/- 0.029\n",
      "11 :CI of KNN f1 is 0.352 +/- 0.024\n",
      "CPU times: user 29min 11s, sys: 591 ms, total: 29min 12s\n",
      "Wall time: 29min 21s\n"
     ]
    }
   ],
   "source": [
    "%%time\n",
    "from sklearn.neighbors import KNeighborsClassifier\n",
    "from sklearn.model_selection import StratifiedShuffleSplit \n",
    "from sklearn.model_selection import cross_val_score\n",
    "\n",
    "# create cross validation iterator\n",
    "cv = StratifiedShuffleSplit(n_splits=10, test_size=0.2)\n",
    "\n",
    "# tune the significant parameter n_neighbors\n",
    "for n in range(5, 12, 2):\n",
    "    clf_knn = KNeighborsClassifier(n_neighbors=n)\n",
    "    scores_knn = cross_val_score(clf_knn, X, y=y, cv=cv, scoring = 'f1', n_jobs=-1) \n",
    "    # The mean score and the 95% confidence interval of the score estimate \n",
    "    print(n,\":CI of KNN f1 is %0.3f +/- %0.3f\" % (scores_knn.mean(), scores_knn.std()*2))"
   ]
  },
  {
   "cell_type": "markdown",
   "metadata": {},
   "source": [
    "### SVM classifier with stochastic gradient descent"
   ]
  },
  {
   "cell_type": "code",
   "execution_count": 17,
   "metadata": {},
   "outputs": [
    {
     "name": "stdout",
     "output_type": "stream",
     "text": [
      "0.0001 :CI of SVM_sgd f1 is 0.307 +/- 0.042\n",
      "0.001 :CI of SVM_sgd f1 is 0.298 +/- 0.028\n",
      "0.01 :CI of SVM_sgd f1 is 0.310 +/- 0.044\n",
      "CPU times: user 1min 20s, sys: 78 ms, total: 1min 20s\n",
      "Wall time: 1min 21s\n"
     ]
    }
   ],
   "source": [
    "%%time\n",
    "from sklearn.linear_model import SGDClassifier\n",
    "from sklearn.model_selection import StratifiedShuffleSplit \n",
    "from sklearn.model_selection import cross_val_score\n",
    "\n",
    "# create cross validation iterator\n",
    "cv = StratifiedShuffleSplit(n_splits=10, test_size=0.2)\n",
    "\n",
    "# optimize the significant parameter alpha.\n",
    "a_list= [0.0001, 0.001, 0.01]\n",
    "for a in a_list:\n",
    "    svm_sgd = SGDClassifier(alpha=a, fit_intercept=True, l1_ratio=0.0, learning_rate='optimal',\n",
    "        loss='hinge', n_iter=200, n_jobs=-1, penalty='l2')\n",
    "    scores_sgd = cross_val_score(svm_sgd, X, y=y, cv=cv, scoring = 'f1', n_jobs=-1) \n",
    "\n",
    "    # The mean score and the 95% confidence interval of the score estimate \n",
    "    print(a, \":CI of SVM_sgd f1 is %0.3f +/- %0.3f\" % (scores_sgd.mean(), scores_sgd.std()*2))"
   ]
  },
  {
   "cell_type": "markdown",
   "metadata": {},
   "source": [
    "### Compare accuracy for three classfiers"
   ]
  },
  {
   "cell_type": "code",
   "execution_count": 37,
   "metadata": {
    "scrolled": false
   },
   "outputs": [
    {
     "data": {
      "text/plain": [
       "<matplotlib.legend.Legend at 0x2419c791e10>"
      ]
     },
     "execution_count": 37,
     "metadata": {},
     "output_type": "execute_result"
    },
    {
     "data": {
      "image/png": "[encoded data removed]",
      "text/plain": [
       "<matplotlib.figure.Figure at 0x2419bd5e7f0>"
      ]
     },
     "metadata": {},
     "output_type": "display_data"
    }
   ],
   "source": [
    "# plot accuracy scores for the three classifiers, choose the best parameters for each classifier.\n",
    "import seaborn as sns\n",
    "from sklearn.ensemble import RandomForestClassifier\n",
    "from sklearn.neighbors import KNeighborsClassifier\n",
    "from sklearn.linear_model import SGDClassifier\n",
    "\n",
    "# obtain f1 scores for all classifers.\n",
    "clf_rf = RandomForestClassifier(n_estimators=200, random_state=1)\n",
    "scores_rf = cross_val_score(clf_rf, X, y=y, cv=cv, scoring= 'f1', n_jobs=-1) \n",
    "\n",
    "clf_knn = KNeighborsClassifier(n_neighbors=9)\n",
    "scores_knn = cross_val_score(clf_knn, X, y=y, cv=cv, scoring= 'f1', n_jobs=-1) \n",
    "\n",
    "svm_sgd = SGDClassifier(alpha=0.001, fit_intercept=True, l1_ratio=0.0, learning_rate='optimal',\n",
    "        loss='hinge', n_iter=200, n_jobs=-1, penalty='l2')\n",
    "scores_sgd = cross_val_score(svm_sgd, X, y=y, cv=cv, scoring= 'f1', n_jobs=-1) \n",
    "\n",
    "# kde plots\n",
    "sns.kdeplot(scores_rf, label=\"RandomForest\")\n",
    "sns.kdeplot(scores_knn, label=\"KNN\")\n",
    "sns.kdeplot(scores_sgd, label=\"SVM_sgd\")\n",
    "plt.grid()\n",
    "plt.legend()"
   ]
  },
  {
   "cell_type": "markdown",
   "metadata": {},
   "source": [
    "Using kernel density estimation to plot the accuracy of each classifier shows the probability density of the F1 score and the width of the spread."
   ]
  },
  {
   "cell_type": "markdown",
   "metadata": {},
   "source": [
    "#### Summary of the three classifiers for task1\n",
    "- RandomForest has the best f1 score with 95% CI estimate: RandomForest(0.384 +/- 0.027), KNN(0.352 +/- 0.024) and SVM_sgd (0.310 +/- 0.044. SVM_sgd has lowest f1. The difference is up to 8%.\n",
    "- In terms of running time, SVM-sgd handles large dataset well (>41k instances). It runs significantly faster than KNN. KNN is the slowest here. RandomForest runs fairly quickly, though slower than SVM-sgd.\n",
    "- Taking three candidate classication methods into consideration, we recommend using the RandomForest classfier to determine which marketing campaigns were most effective in increasing term deposit subscriptions.   "
   ]
  },
  {
   "cell_type": "markdown",
   "metadata": {},
   "source": [
    "### Assess feature importance using RandomForest"
   ]
  },
  {
   "cell_type": "code",
   "execution_count": 15,
   "metadata": {},
   "outputs": [
    {
     "name": "stdout",
     "output_type": "stream",
     "text": [
      "Feature ranking:\n",
      "1. feature age (0.163990)\n",
      "2. feature euribor3m (0.120277)\n",
      "3. feature campaign (0.084107)\n",
      "4. feature nr.employed (0.046584)\n",
      "5. feature pdays (0.032278)\n",
      "6. feature cons.conf.idx (0.027427)\n",
      "7. feature poutcome_success (0.025497)\n",
      "8. feature cons.price.idx (0.021095)\n",
      "9. feature housing_no (0.021063)\n",
      "10. feature housing_yes (0.020781)\n",
      "11. feature emp.var.rate (0.019875)\n",
      "12. feature job_admin. (0.017473)\n",
      "13. feature marital_married (0.016349)\n",
      "14. feature education_university.degree (0.016302)\n",
      "15. feature education_high.school (0.016229)\n",
      "16. feature marital_single (0.014790)\n",
      "17. feature day_of_week_mon (0.014516)\n",
      "18. feature day_of_week_wed (0.014328)\n",
      "19. feature day_of_week_thu (0.014215)\n",
      "20. feature day_of_week_tue (0.014092)\n",
      "21. feature job_technician (0.014064)\n",
      "22. feature previous (0.013892)\n",
      "23. feature loan_no (0.013873)\n",
      "24. feature loan_yes (0.013636)\n",
      "25. feature day_of_week_fri (0.013544)\n",
      "26. feature education_professional.course (0.011938)\n",
      "27. feature job_blue-collar (0.011590)\n",
      "28. feature education_basic.9y (0.011328)\n",
      "29. feature marital_divorced (0.010409)\n",
      "30. feature poutcome_failure (0.009641)\n",
      "31. feature poutcome_nonexistent (0.009641)\n",
      "32. feature job_management (0.009330)\n",
      "33. feature job_services (0.009089)\n",
      "34. feature education_basic.4y (0.008291)\n",
      "35. feature contact_cellular (0.008145)\n",
      "36. feature contact_telephone (0.008050)\n",
      "37. feature default_unknown (0.007548)\n",
      "38. feature default_no (0.007317)\n",
      "39. feature job_retired (0.007139)\n",
      "40. feature education_unknown (0.006815)\n",
      "41. feature education_basic.6y (0.006777)\n",
      "42. feature job_self-employed (0.006178)\n",
      "43. feature job_entrepreneur (0.005898)\n",
      "44. feature month_oct (0.005657)\n",
      "45. feature month_mar (0.005295)\n",
      "46. feature job_student (0.005229)\n",
      "47. feature job_unemployed (0.004982)\n",
      "48. feature job_housemaid (0.004294)\n",
      "49. feature month_may (0.003696)\n",
      "50. feature month_jun (0.003035)\n",
      "51. feature month_apr (0.002993)\n",
      "52. feature month_sep (0.002728)\n",
      "53. feature month_jul (0.002614)\n",
      "54. feature housing_unknown (0.002549)\n",
      "55. feature month_aug (0.002495)\n",
      "56. feature loan_unknown (0.002462)\n",
      "57. feature job_unknown (0.002299)\n",
      "58. feature month_nov (0.002274)\n",
      "59. feature marital_unknown (0.000859)\n",
      "60. feature month_dec (0.000858)\n",
      "61. feature education_illiterate (0.000281)\n",
      "62. feature default_yes (0.000001)\n"
     ]
    }
   ],
   "source": [
    "# investigate feature importance for RandomForestClassifier\n",
    "from sklearn.ensemble import RandomForestClassifier\n",
    "clf_rf = RandomForestClassifier(n_estimators=200, random_state=1)\n",
    "\n",
    "clf_rf.fit(X, y)\n",
    "importances = clf_rf.feature_importances_\n",
    "indices = np.argsort(importances)[::-1]\n",
    "feat_label = X_encode.columns\n",
    "\n",
    "# Print the feature ranking\n",
    "print(\"Feature ranking:\")\n",
    "\n",
    "for f in range(X.shape[1]):\n",
    "    print(\"%d. feature %s (%f)\" % (f+1, feat_label[indices[f]], importances[indices[f]]))"
   ]
  },
  {
   "cell_type": "code",
   "execution_count": 23,
   "metadata": {},
   "outputs": [
    {
     "data": {
      "image/png": "[encoded data removed]",
      "text/plain": [
       "<matplotlib.figure.Figure at 0x1844d7c8f98>"
      ]
     },
     "metadata": {},
     "output_type": "display_data"
    }
   ],
   "source": [
    "# plot the rank of features\n",
    "\n",
    "plt.figure(figsize=(18,10))\n",
    "plt.title('Feature Importances')\n",
    "plt.bar(range(X.shape[1]),importances[indices],color='blue',align='center')\n",
    "plt.xticks(range(X.shape[1]),feat_label[indices], rotation=90)\n",
    "plt.xlim([-1, X.shape[1]])\n",
    "plt.tight_layout()\n",
    "plt.grid()\n",
    "plt.show()"
   ]
  },
  {
   "cell_type": "markdown",
   "metadata": {},
   "source": [
    "#### Important features for randomforest classifier\n",
    "- The three most important features are age, euribor 3 month rate, and number of contacts performed during this campaign for this client. Age has a significant impact on this classification. Certain age group(s) might be more important than others. We advice marketing campaigns to take this into consideration.\n",
    "- The choice of the most important features here is arbitary. Besides the three most important ones, the fourth one \"number of employees\"  also contributes to the classification."
   ]
  },
  {
   "cell_type": "markdown",
   "metadata": {},
   "source": [
    "## Additional model using clustering to discretize features\n",
    "\n",
    "The 20 features in this dataset are grouped into several loose categories as shown in data description. We used clustering to discretize several features in one category. For example, clustering attributes in group called \"other attritutes\" and convert them into discrete features.  "
   ]
  },
  {
   "cell_type": "code",
   "execution_count": 64,
   "metadata": {
    "collapsed": true
   },
   "outputs": [],
   "source": [
    "# data with attrs from group \"other attributes\"\n",
    "X6 = Xb[['campaign','pdays','previous']]\n",
    "# one-hot encoding the catergorical feature 'poutcome' and add it back to X7\n",
    "Xp = np.column_stack((X6, pd.get_dummies(Xb['poutcome'])))"
   ]
  },
  {
   "cell_type": "code",
   "execution_count": 65,
   "metadata": {
    "collapsed": true
   },
   "outputs": [],
   "source": [
    "Xo = Xb\n",
    "del Xo['campaign']\n",
    "del Xo['pdays']\n",
    "del Xo['previous']\n",
    "del Xo['poutcome']\n",
    "\n",
    "# data without attributes from group named other attributes \n",
    "X7 = Xo"
   ]
  },
  {
   "cell_type": "code",
   "execution_count": 66,
   "metadata": {},
   "outputs": [
    {
     "name": "stdout",
     "output_type": "stream",
     "text": [
      "CI of RandomForest f1 (with kmeans for other attrs) is 0.556 +/- 0.031\n"
     ]
    }
   ],
   "source": [
    "from sklearn.ensemble import RandomForestClassifier\n",
    "from sklearn.model_selection import StratifiedShuffleSplit \n",
    "from sklearn.model_selection import cross_val_score\n",
    "from sklearn.cluster import KMeans\n",
    "\n",
    "# clustering Xp using KMeans\n",
    "cls = KMeans(n_clusters=8, init='k-means++',random_state=1)\n",
    "cls.fit(Xp)\n",
    "newfeature2 = cls.labels_ # obtain new features after clustering\n",
    "\n",
    "cv = StratifiedShuffleSplit( n_splits=10, test_size=0.2)\n",
    "clf = RandomForestClassifier(n_estimators=200, random_state=1)\n",
    "\n",
    "# add new features after clustering back to X7\n",
    "X8 = np.column_stack((pd.get_dummies(newfeature2), pd.get_dummies(X7)))\n",
    "scores_km = cross_val_score(clf, X8, y=y, scoring = 'f1', cv=cv)\n",
    "\n",
    "print(\"CI of RandomForest f1 (with kmeans for other attrs) is %0.3f +/- %0.3f\" % (scores_km.mean(), scores_km.std()*2))"
   ]
  },
  {
   "cell_type": "markdown",
   "metadata": {},
   "source": [
    "#### Compared to the F1 score in RandomForest classifier without clustering (0.377), the new model with discretizated features increased F1 score to 0.556, a gain of around 18%."
   ]
  },
  {
   "cell_type": "markdown",
   "metadata": {
    "collapsed": true
   },
   "source": [
    "### Deployment\n",
    "- Among all classifiers tested, the RandomForest classifier performed best. Combining RandomForest with clustering to convert original features into discrete features could improve model accuracy. Thus we would recommend this classifier to interested parties. \n",
    "- Strategies to improve the performance of the models: \n",
    "  - correct unbalanced classes in the desired target. For example, 'NO' is 10 times more than 'YES' in the classification targt of task1. Classifiers tend to be biased toward the class with the larger proportions. In preprocessing, many actions can be taken to control for the impact of small samples proportions; e.g., if possible, increase sample size of the class with small proportion to correct the asymmetry in proportions. \n",
    "  - update model with sensitive features frequently. Based on the results of this analysis, social and economic attributes seem important in predicting model outcomes. Models should therefore be updated frequently to reflect changes in economic conditions. As suggested by the dataset, the chosen model needs to be updated around every 3 months.\n",
    "  - use proper metric to measure the model's values. The metric would be chosen based on the nature of the datasets and the classification targets of the datasets from interested parties. In general, Accuracy is good for the datasets with balanced classes. F1 is more suitable for datasets with unbalanced classes such as the dataset we used here.   "
   ]
  },
  {
   "cell_type": "markdown",
   "metadata": {},
   "source": [
    "### Reference\n",
    "Moro, S., Cortez, P., & Rita, P. (2014). A data-driven approach to predict the success of bank telemarketing. Decision Support Systems, 62, 22-31."
   ]
  },
  {
   "cell_type": "markdown",
   "metadata": {},
   "source": [
    "### Code Reference\n",
    "Python machine learning by S.Raschka"
   ]
  }
 ],
 "metadata": {
  "kernelspec": {
   "display_name": "Python 3",
   "language": "python",
   "name": "python3"
  },
  "language_info": {
   "codemirror_mode": {
    "name": "ipython",
    "version": 3
   },
   "file_extension": ".py",
   "mimetype": "text/x-python",
   "name": "python",
   "nbconvert_exporter": "python",
   "pygments_lexer": "ipython3",
   "version": "3.6.4"
  }
 },
 "nbformat": 4,
 "nbformat_minor": 2
}
